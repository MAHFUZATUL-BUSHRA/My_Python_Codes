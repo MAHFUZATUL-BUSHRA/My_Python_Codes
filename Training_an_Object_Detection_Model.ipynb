{
  "nbformat": 4,
  "nbformat_minor": 0,
  "metadata": {
    "colab": {
      "provenance": [],
      "gpuType": "T4",
      "collapsed_sections": [
        "zZy5UB8jgtnv",
        "6EsSNn7sXSGJ",
        "17t2Tu9iXWPV",
        "HN0nOEnrgFyQ"
      ]
    },
    "kernelspec": {
      "name": "python3",
      "display_name": "Python 3"
    },
    "accelerator": "GPU"
  },
  "cells": [
    {
      "cell_type": "markdown",
      "source": [
        "# Training a YOLOv5 Model From Scratch"
      ],
      "metadata": {
        "id": "4YzrF6SKXNXI"
      }
    },
    {
      "cell_type": "markdown",
      "source": [
        "## Setup the Envirinment in Google Drive"
      ],
      "metadata": {
        "id": "zZy5UB8jgtnv"
      }
    },
    {
      "cell_type": "code",
      "source": [
        "# mount google drive to save progress\n",
        "from google.colab import drive\n",
        "drive.mount('/content/gdrive')\n"
      ],
      "metadata": {
        "colab": {
          "base_uri": "https://localhost:8080/"
        },
        "id": "OLfzMTU4nfZk",
        "outputId": "2727221c-ad1c-47b2-98c6-9d9dc88193ec"
      },
      "execution_count": null,
      "outputs": [
        {
          "output_type": "stream",
          "name": "stdout",
          "text": [
            "Mounted at /content/gdrive\n"
          ]
        }
      ]
    },
    {
      "cell_type": "code",
      "source": [
        "# change directory to the designated folder\n",
        "%cd /content/gdrive/MyDrive/ML-Training-Object-Detection\n"
      ],
      "metadata": {
        "colab": {
          "base_uri": "https://localhost:8080/"
        },
        "id": "u5qT-JTfeyxy",
        "outputId": "389ab929-c9df-4b92-e299-f0b87e6e1fd4"
      },
      "execution_count": null,
      "outputs": [
        {
          "output_type": "stream",
          "name": "stdout",
          "text": [
            "/content/gdrive/MyDrive/ML-Training-Object-Detection\n"
          ]
        }
      ]
    },
    {
      "cell_type": "code",
      "source": [
        "# print working directory\n",
        "! pwd"
      ],
      "metadata": {
        "colab": {
          "base_uri": "https://localhost:8080/"
        },
        "id": "0Tj8Pb2jfivu",
        "outputId": "45a1ae89-30e5-4ac0-fcbc-0a4035bc3b19"
      },
      "execution_count": null,
      "outputs": [
        {
          "output_type": "stream",
          "name": "stdout",
          "text": [
            "/content/gdrive/MyDrive/ML-Training-Object-Detection\n"
          ]
        }
      ]
    },
    {
      "cell_type": "code",
      "source": [
        "# read path directory\n",
        "! ls\n",
        "\n"
      ],
      "metadata": {
        "colab": {
          "base_uri": "https://localhost:8080/"
        },
        "id": "TwJ05woNfC54",
        "outputId": "a622dc1f-88ab-4a66-ae20-ad36adbe27d4"
      },
      "execution_count": null,
      "outputs": [
        {
          "output_type": "stream",
          "name": "stdout",
          "text": [
            " dataset_zipped.zip  'Human Forklift Detection.ipynb'   SafeLift.ipynb\t yolov5\n"
          ]
        }
      ]
    },
    {
      "cell_type": "markdown",
      "source": [
        "## Clone YOLOv5"
      ],
      "metadata": {
        "id": "6EsSNn7sXSGJ"
      }
    },
    {
      "cell_type": "code",
      "metadata": {
        "id": "wbvMlHd_QwMG"
      },
      "source": [
        "# clone yolov5 reporsitory\n",
        "!git clone https://github.com/ultralytics/yolov5\n",
        "%cd yolov5\n",
        "%pip install -qr requirements.txt"
      ],
      "execution_count": null,
      "outputs": []
    },
    {
      "cell_type": "code",
      "source": [
        "import torch\n",
        "import utils\n",
        "display = utils.notebook_init()"
      ],
      "metadata": {
        "id": "ySwDtioMf0RI"
      },
      "execution_count": null,
      "outputs": []
    },
    {
      "cell_type": "markdown",
      "source": [
        "## Prepare Dataset"
      ],
      "metadata": {
        "id": "17t2Tu9iXWPV"
      }
    },
    {
      "cell_type": "code",
      "source": [
        "! ls\n",
        "!unzip -q \"../dataset_zipped.zip\" -d \"../dataset_for_training\"\n",
        "%cd ..\n",
        "! ls"
      ],
      "metadata": {
        "id": "3W3BrC1hor20"
      },
      "execution_count": null,
      "outputs": []
    },
    {
      "cell_type": "code",
      "source": [
        "%cd yolov5/\n",
        "! ls"
      ],
      "metadata": {
        "colab": {
          "base_uri": "https://localhost:8080/"
        },
        "id": "Cz83ajHt54kA",
        "outputId": "b69bbe21-1f43-4781-cbaa-4124e94ad886"
      },
      "execution_count": null,
      "outputs": [
        {
          "output_type": "stream",
          "name": "stdout",
          "text": [
            "/content/gdrive/MyDrive/work/bat/AI-WH/yolov5\n",
            "benchmarks.py\t data.yaml\t\t LICENSE\t README.zh-CN.md   tutorial.ipynb\n",
            "CITATION.cff\t detect.py\t\t models\t\t requirements.txt  utils\n",
            "classify\t export.py\t\t __pycache__\t runs\t\t   val.py\n",
            "CONTRIBUTING.md  hubconf.py\t\t pyproject.toml  segment\t   yolov5s.pt\n",
            "data\t\t human_forklift_dataset  README.md\t train.py\n"
          ]
        }
      ]
    },
    {
      "cell_type": "markdown",
      "source": [
        "## Train the Model"
      ],
      "metadata": {
        "id": "HN0nOEnrgFyQ"
      }
    },
    {
      "cell_type": "code",
      "source": [
        "# cli command to train the model\n",
        "!python train.py --img 416 --batch 128 --epochs 400 --data data.yaml --weights yolov5s.pt --cache"
      ],
      "metadata": {
        "id": "HAkhRnPD6I8Y"
      },
      "execution_count": null,
      "outputs": []
    },
    {
      "cell_type": "code",
      "metadata": {
        "id": "zR9ZbuQCH7FX"
      },
      "source": [
        "# cli command to test the model\n",
        "!python detect.py --weights /content/best.pt --img 416 --conf 0.40 --source \"/content/path_to_the_video.mp4\""
      ],
      "execution_count": null,
      "outputs": []
    },
    {
      "cell_type": "code",
      "source": [],
      "metadata": {
        "id": "d__dz2ERSXIN"
      },
      "execution_count": null,
      "outputs": []
    }
  ]
}