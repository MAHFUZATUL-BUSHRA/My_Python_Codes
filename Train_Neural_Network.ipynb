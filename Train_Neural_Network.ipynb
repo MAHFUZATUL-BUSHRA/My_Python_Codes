{
  "cells": [
    {
      "cell_type": "code",
      "execution_count": null,
      "id": "96961b1d",
      "metadata": {
        "id": "96961b1d"
      },
      "outputs": [],
      "source": [
        "import tensorflow as tf\n",
        "from tensorflow import keras\n",
        "import numpy as np\n",
        "import matplotlib.pyplot as plt"
      ]
    },
    {
      "cell_type": "code",
      "execution_count": null,
      "id": "a0c9617f",
      "metadata": {
        "id": "a0c9617f",
        "outputId": "d0ecdba9-1f96-4bb5-8333-0f8d56b6798c"
      },
      "outputs": [
        {
          "name": "stdout",
          "output_type": "stream",
          "text": [
            "Downloading data from https://storage.googleapis.com/tensorflow/tf-keras-datasets/mnist.npz\n",
            "11493376/11490434 [==============================] - 3s 0us/step\n",
            "(60000, 28, 28)\n"
          ]
        }
      ],
      "source": [
        "(train_images,train_labels),(test_images,test_labels)=keras.datasets.mnist.load_data()\n",
        "print(train_images.shape)"
      ]
    },
    {
      "cell_type": "code",
      "execution_count": null,
      "id": "0598f571",
      "metadata": {
        "id": "0598f571",
        "outputId": "55feb391-261a-4ea7-8f13-22b5652d0874"
      },
      "outputs": [
        {
          "data": {
            "image/png": "[encoded data removed]",
            "text/plain": [
              "<Figure size 432x288 with 1 Axes>"
            ]
          },
          "metadata": {},
          "output_type": "display_data"
        }
      ],
      "source": [
        "i=123\n",
        "plt.figure()\n",
        "plt.imshow(train_images[i],cmap='gray_r')\n",
        "plt.xticks([])\n",
        "plt.yticks([])\n",
        "plt.title(train_labels[i])\n",
        "plt.show()"
      ]
    },
    {
      "cell_type": "code",
      "execution_count": null,
      "id": "fec18c05",
      "metadata": {
        "id": "fec18c05"
      },
      "outputs": [],
      "source": [
        "train_images_norm=train_images.reshape(-1,784).astype('float32')/255.0\n",
        "test_images_norm=test_images.reshape(-1,784).astype('float32')/255.0"
      ]
    },
    {
      "cell_type": "code",
      "execution_count": null,
      "id": "97cfdde9",
      "metadata": {
        "id": "97cfdde9",
        "outputId": "438fe8c8-2518-4e2f-e587-444c5af5d73b"
      },
      "outputs": [
        {
          "data": {
            "image/png": "[encoded data removed]",
            "text/plain": [
              "<Figure size 432x288 with 1 Axes>"
            ]
          },
          "metadata": {},
          "output_type": "display_data"
        }
      ],
      "source": [
        "i=856\n",
        "plt.figure()\n",
        "plt.imshow(train_images_norm[i].reshape(28,28),cmap='gray_r')\n",
        "plt.xticks([])\n",
        "plt.yticks([])\n",
        "plt.title(train_labels[i])\n",
        "plt.show()\n"
      ]
    },
    {
      "cell_type": "code",
      "execution_count": null,
      "id": "a2bffe64",
      "metadata": {
        "id": "a2bffe64",
        "outputId": "a47e5f49-5e68-407c-dcc0-e87ea700cc9d"
      },
      "outputs": [
        {
          "name": "stdout",
          "output_type": "stream",
          "text": [
            "Model: \"sequential_1\"\n",
            "_________________________________________________________________\n",
            "Layer (type)                 Output Shape              Param #   \n",
            "=================================================================\n",
            "dense_3 (Dense)              (None, 32)                25120     \n",
            "_________________________________________________________________\n",
            "dense_4 (Dense)              (None, 16)                528       \n",
            "_________________________________________________________________\n",
            "dense_5 (Dense)              (None, 10)                170       \n",
            "=================================================================\n",
            "Total params: 25,818\n",
            "Trainable params: 25,818\n",
            "Non-trainable params: 0\n",
            "_________________________________________________________________\n"
          ]
        }
      ],
      "source": [
        "\n",
        "\n",
        "model = keras.Sequential([\n",
        "    keras.Input(shape=28*28),\n",
        "    keras.layers.Dense(units=32, activation='relu'),\n",
        "    keras.layers.Dense(units=16, activation='relu'),\n",
        "    keras.layers.Dense(units=10, activation='softmax')\n",
        "])\n",
        "model.summary()\n",
        "\n"
      ]
    },
    {
      "cell_type": "code",
      "execution_count": null,
      "id": "6d5602b6",
      "metadata": {
        "id": "6d5602b6"
      },
      "outputs": [],
      "source": [
        "model.compile(\n",
        "    optimizer='adam',\n",
        "    loss='sparse_categorical_crossentropy',\n",
        "    metrics=['accuracy']\n",
        ")"
      ]
    },
    {
      "cell_type": "code",
      "execution_count": null,
      "id": "dcd9b5d0",
      "metadata": {
        "id": "dcd9b5d0",
        "outputId": "d0ab70e0-8d96-4ad1-bbc3-4efa20601357"
      },
      "outputs": [
        {
          "name": "stdout",
          "output_type": "stream",
          "text": [
            "Epoch 1/10\n",
            "1313/1313 [==============================] - 1s 775us/step - loss: 0.0526 - accuracy: 0.9838 - val_loss: 0.0576 - val_accuracy: 0.9813\n",
            "Epoch 2/10\n",
            "1313/1313 [==============================] - 1s 728us/step - loss: 0.0469 - accuracy: 0.9850 - val_loss: 0.0658 - val_accuracy: 0.9792\n",
            "Epoch 3/10\n",
            "1313/1313 [==============================] - 1s 724us/step - loss: 0.0419 - accuracy: 0.9868 - val_loss: 0.0751 - val_accuracy: 0.9756\n",
            "Epoch 4/10\n",
            "1313/1313 [==============================] - 1s 723us/step - loss: 0.0393 - accuracy: 0.9874 - val_loss: 0.0851 - val_accuracy: 0.9740\n",
            "Epoch 5/10\n",
            "1313/1313 [==============================] - 1s 725us/step - loss: 0.0379 - accuracy: 0.9876 - val_loss: 0.0746 - val_accuracy: 0.9776\n",
            "Epoch 6/10\n",
            "1313/1313 [==============================] - 1s 736us/step - loss: 0.0343 - accuracy: 0.9890 - val_loss: 0.0736 - val_accuracy: 0.9779\n",
            "Epoch 7/10\n",
            "1313/1313 [==============================] - 1s 743us/step - loss: 0.0317 - accuracy: 0.9899 - val_loss: 0.0827 - val_accuracy: 0.9751\n",
            "Epoch 8/10\n",
            "1313/1313 [==============================] - 1s 733us/step - loss: 0.0298 - accuracy: 0.9904 - val_loss: 0.0939 - val_accuracy: 0.9731\n",
            "Epoch 9/10\n",
            "1313/1313 [==============================] - 1s 746us/step - loss: 0.0268 - accuracy: 0.9918 - val_loss: 0.0910 - val_accuracy: 0.9747\n",
            "Epoch 10/10\n",
            "1313/1313 [==============================] - 1s 720us/step - loss: 0.0283 - accuracy: 0.9907 - val_loss: 0.0965 - val_accuracy: 0.9734\n"
          ]
        }
      ],
      "source": [
        "\n",
        "# h = model.fit(x=train_images_norm, y=train_labels, epochs=5, batch_size=64, validation_split=0.3)\n",
        "\n",
        "h = model.fit(x=train_images_norm, y=train_labels, epochs=10,validation_split=0.3)"
      ]
    },
    {
      "cell_type": "code",
      "execution_count": null,
      "id": "95c3cc1a",
      "metadata": {
        "id": "95c3cc1a",
        "outputId": "a118c4cb-cdcf-47fa-f800-94993892bdd1"
      },
      "outputs": [
        {
          "data": {
            "image/png": "[encoded data removed]",
            "text/plain": [
              "<Figure size 432x288 with 1 Axes>"
            ]
          },
          "metadata": {
            "needs_background": "light"
          },
          "output_type": "display_data"
        }
      ],
      "source": [
        "plt.figure()\n",
        "plt.plot(h.history['accuracy'],'--o')\n",
        "plt.plot(h.history['val_accuracy'])\n",
        "plt.show()\n"
      ]
    },
    {
      "cell_type": "code",
      "execution_count": null,
      "id": "d2a49abd",
      "metadata": {
        "id": "d2a49abd",
        "outputId": "e206bdc3-fdb9-450d-ce44-bc3bba5777dd"
      },
      "outputs": [
        {
          "name": "stdout",
          "output_type": "stream",
          "text": [
            "313/313 [==============================] - 0s 414us/step - loss: 0.1486 - accuracy: 0.9671\n"
          ]
        }
      ],
      "source": [
        "test_loss,test_acc=model.evaluate(test_images_norm,test_labels)"
      ]
    },
    {
      "cell_type": "code",
      "execution_count": null,
      "id": "28170883",
      "metadata": {
        "id": "28170883",
        "outputId": "9eacadc3-3646-4da5-f9df-92aeccee383a"
      },
      "outputs": [
        {
          "name": "stdout",
          "output_type": "stream",
          "text": [
            "[1.3592455e-14 2.9054728e-14 2.8940494e-08 5.0929862e-06 6.0346574e-21\n",
            " 4.7892853e-13 2.5250453e-18 9.9999487e-01 2.4361113e-10 7.5409221e-11]\n"
          ]
        }
      ],
      "source": [
        "p=model.predict(test_images_norm)\n",
        "print(p[0])"
      ]
    },
    {
      "cell_type": "code",
      "execution_count": null,
      "id": "0937b726",
      "metadata": {
        "id": "0937b726",
        "outputId": "d2f19481-c214-4400-de6b-e98f147f82f7"
      },
      "outputs": [
        {
          "data": {
            "text/plain": [
              "<matplotlib.image.AxesImage at 0x252fe2126d0>"
            ]
          },
          "execution_count": 22,
          "metadata": {},
          "output_type": "execute_result"
        },
        {
          "data": {
            "image/png": "[encoded data removed]",
            "text/plain": [
              "<Figure size 432x288 with 1 Axes>"
            ]
          },
          "metadata": {
            "needs_background": "light"
          },
          "output_type": "display_data"
        }
      ],
      "source": [
        "i=10\n",
        "plt.imshow(test_images_norm[i].reshape(28,28),cmap='gray_r')"
      ]
    },
    {
      "cell_type": "code",
      "execution_count": null,
      "id": "54ea4780",
      "metadata": {
        "id": "54ea4780",
        "outputId": "bea9dbcf-16ec-41ff-dd8a-52abd2b7b375"
      },
      "outputs": [
        {
          "data": {
            "text/plain": [
              "<BarContainer object of 10 artists>"
            ]
          },
          "execution_count": 23,
          "metadata": {},
          "output_type": "execute_result"
        },
        {
          "data": {
            "image/png": "[encoded data removed]",
            "text/plain": [
              "<Figure size 432x288 with 1 Axes>"
            ]
          },
          "metadata": {
            "needs_background": "light"
          },
          "output_type": "display_data"
        }
      ],
      "source": [
        "plt.bar(range(10),p[i])"
      ]
    },
    {
      "cell_type": "code",
      "execution_count": null,
      "id": "b155ff7b",
      "metadata": {
        "id": "b155ff7b"
      },
      "outputs": [],
      "source": []
    }
  ],
  "metadata": {
    "kernelspec": {
      "display_name": "cvpr tf2.4 py3.8",
      "language": "python",
      "name": "cvpr"
    },
    "language_info": {
      "codemirror_mode": {
        "name": "ipython",
        "version": 3
      },
      "file_extension": ".py",
      "mimetype": "text/x-python",
      "name": "python",
      "nbconvert_exporter": "python",
      "pygments_lexer": "ipython3",
      "version": "3.8.12"
    },
    "colab": {
      "provenance": []
    }
  },
  "nbformat": 4,
  "nbformat_minor": 5
}