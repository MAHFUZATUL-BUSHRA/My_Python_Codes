{
  "nbformat": 4,
  "nbformat_minor": 0,
  "metadata": {
    "colab": {
      "provenance": []
    },
    "kernelspec": {
      "name": "python3",
      "display_name": "Python 3"
    },
    "language_info": {
      "name": "python"
    }
  },
  "cells": [
    {
      "cell_type": "markdown",
      "source": [
        "Question 1:Vending Machine\n",
        "\n",
        "You are designing a simple vending machine simulation.\n",
        "\n",
        "Implement a class VendingMachine with the following behavior:\n",
        "\n",
        "    The machine is initialized with a certain number of items and the price per item.\n",
        "\n",
        "    Users can attempt to buy a specific number of items with a certain amount of money.\n",
        "\n",
        "Write a method buy(req_items, money) that:\n",
        "\n",
        "    Returns \"Not enough items in the machine\" if the requested quantity exceeds the remaining stock.\n",
        "\n",
        "    Returns \"Not enough coins\" if the money provided is less than the total price.\n",
        "\n",
        "    Otherwise, reduces the number of items in the machine and returns the change (i.e., money - total_price).\n",
        "\n",
        "Input:\n",
        "\n",
        "    Number of items in the machine (integer)\n",
        "\n",
        "    Price per item (integer)\n",
        "\n",
        "    Multiple calls to buy(req_items, money)\n",
        " Output:\n",
        "\n",
        "    A number (change) if the transaction is successful.\n",
        "\n",
        "    A message if it fails due to lack of items or insufficient money.\n"
      ],
      "metadata": {
        "id": "lMIbG1rQRCh4"
      }
    },
    {
      "cell_type": "code",
      "source": [
        "class VendingMachine:\n",
        "    def __init__(self, num_items, item_price):\n",
        "        self.numItems = num_items\n",
        "        self.itemPrice = item_price\n",
        "\n",
        "    def buy(self, req_items, money):\n",
        "        total_price = req_items * self.itemPrice\n",
        "\n",
        "        if req_items > self.numItems:\n",
        "            return \"Not enough items in the machine\"\n",
        "\n",
        "        if money < total_price:\n",
        "            return \"Not enough coins\"\n",
        "\n",
        "        self.numItems -= req_items\n",
        "        return money - total_price\n",
        "\n",
        "\n",
        "# Test Cases\n",
        "vend = VendingMachine(200, 2)\n",
        "\n",
        "print(vend.buy(50, 103))  # 50 * 2 = 100; 103 - 100 = 3 => Expected: 3\n",
        "print(vend.buy(160, 400))  # Only 150 items left => Expected: \"Not enough items in the machine\"\n",
        "print(vend.buy(43, 172))  # 43 * 2 = 86; 172 - 86 = 86 => Expected: 86\n",
        "print(vend.buy(5, 3))  # 5 * 2 = 10; only 3 coins => Expected: \"Not enough coins\"\n"
      ],
      "metadata": {
        "id": "Rzlc-BdTRNLN"
      },
      "execution_count": null,
      "outputs": []
    },
    {
      "cell_type": "markdown",
      "source": [
        "Question 2:transformSentence\n",
        "\n",
        "You are given a sentence composed of one or more words separated by spaces.\n",
        "\n",
        "Task:\n",
        "Transform each word in the sentence according to the following rules:\n",
        "\n",
        "    Keep the first character of each word unchanged.\n",
        "\n",
        "    For every subsequent character in a word:\n",
        "\n",
        "        If the previous character (case-insensitive) is less than the current one, convert the current character to uppercase.\n",
        "\n",
        "        If the previous character (case-insensitive) is greater than the current one, convert the current character to lowercase.\n",
        "\n",
        "        If both characters are equal, leave the current character unchanged.\n",
        "\n",
        "The comparisons are made using ASCII values after converting both characters to lowercase."
      ],
      "metadata": {
        "id": "YQjaZ6NFSJj1"
      }
    },
    {
      "cell_type": "code",
      "source": [
        "# Creating a .txt file with the problem description and test cases\n",
        "\n",
        "problem_text = \"\"\"Problem: transformSentence\n",
        "\n",
        "Description:\n",
        "You are given a sentence composed of one or more words separated by spaces.\n",
        "\n",
        "Task:\n",
        "Transform each word in the sentence according to the following rules:\n",
        "1. Keep the first character of each word unchanged.\n",
        "2. For every subsequent character in a word:\n",
        "   - If the previous character (case-insensitive) is less than the current one, convert the current character to uppercase.\n",
        "   - If the previous character (case-insensitive) is greater than the current one, convert the current character to lowercase.\n",
        "   - If both characters are equal, leave the current character unchanged.\n",
        "\n",
        "Note:\n",
        "- Comparisons are made using ASCII values after converting characters to lowercase.\n",
        "\n",
        "Test Cases:\n",
        "\n",
        "Test Case 1\n",
        "Input:\n",
        "a Blue MOON\n",
        "Expected Output:\n",
        "a BLUe MOOn\n",
        "\n",
        "Test Case 2\n",
        "Input:\n",
        "ab cB GG\n",
        "Expected Output:\n",
        "aB cb GG\n",
        "\n",
        "Test Case 3\n",
        "Input:\n",
        "Hello world\n",
        "Expected Output:\n",
        "HElLo wOrlD\n",
        "\n",
        "Test Case 4\n",
        "Input:\n",
        "a a a\n",
        "Expected Output:\n",
        "a a a\n",
        "\n",
        "Test Case 5\n",
        "Input:\n",
        "xyz ZYX\n",
        "Expected Output:\n",
        "xYz Zyx\n",
        "\"\"\"\n",
        "\n",
        "# Saving to a file\n",
        "file_path = \"/mnt/data/transformSentence_problem.txt\"\n",
        "with open(file_path, \"w\") as file:\n",
        "    file.write(problem_text)\n",
        "\n",
        "file_path\n"
      ],
      "metadata": {
        "id": "L0ay019wSFRU"
      },
      "execution_count": null,
      "outputs": []
    },
    {
      "cell_type": "code",
      "source": [
        "def transformSentence(sentence):\n",
        "    words = sentence.split()\n",
        "    transformed_words = []\n",
        "\n",
        "    for word in words:\n",
        "        transformed = word[0]  # First letter unchanged\n",
        "        for i in range(1, len(word)):\n",
        "            prev = word[i - 1].lower()\n",
        "            curr = word[i]\n",
        "            if prev < curr.lower():\n",
        "                transformed += curr.upper()\n",
        "            elif prev > curr.lower():\n",
        "                transformed += curr.lower()\n",
        "            else:\n",
        "                transformed += curr  # unchanged\n",
        "        transformed_words.append(transformed)\n",
        "\n",
        "    return \" \".join(transformed_words)\n",
        "\n",
        "# Example usage\n",
        "if __name__ == \"__main__\":\n",
        "    sentence = input().strip()\n",
        "    print(transformSentence(sentence))\n"
      ],
      "metadata": {
        "id": "MVYqKiyZRl52"
      },
      "execution_count": null,
      "outputs": []
    }
  ]
}