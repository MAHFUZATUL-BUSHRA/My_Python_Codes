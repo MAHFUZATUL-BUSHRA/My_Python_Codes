{
  "nbformat": 4,
  "nbformat_minor": 0,
  "metadata": {
    "colab": {
      "provenance": []
    },
    "kernelspec": {
      "name": "python3",
      "display_name": "Python 3"
    },
    "language_info": {
      "name": "python"
    }
  },
  "cells": [
    {
      "cell_type": "code",
      "execution_count": null,
      "metadata": {
        "colab": {
          "base_uri": "https://localhost:8080/"
        },
        "id": "WBGRt46RF6VH",
        "outputId": "db08c93f-315f-4ebb-fbac-3c0248077a3d"
      },
      "outputs": [
        {
          "output_type": "stream",
          "name": "stdout",
          "text": [
            "ATGCT\n",
            "A-GCT\n"
          ]
        }
      ],
      "source": [
        "\n",
        "import numpy as np\n",
        "\n",
        "#Ask for sequences from the user\n",
        "#sequence_1 = input(\"Enter or paste sequence 1:\")\n",
        "#sequence_2 = input(\"Enter or paste sequence 2:\")\n",
        "\n",
        "sequence_1 = \"ATGCT\"\n",
        "sequence_2 = \"AGCT\"\n",
        "\n",
        "#Creat Matrices\n",
        "main_matrix = np.zeros((len(sequence_1)+1,len(sequence_2)+1))\n",
        "match_checker_matrix = np.zeros((len(sequence_1),len(sequence_2)))\n",
        "\n",
        "# Providing the scores for match ,mismatch and gap\n",
        "match_reward = 1\n",
        "mismatch_penalty = -1\n",
        "gap_penalty = -2\n",
        "\n",
        "#Fill the match checker matrix accrording to match or mismatch\n",
        "for i in range(len(sequence_1)):\n",
        "    for j in range(len(sequence_2)):\n",
        "        if sequence_1[i] == sequence_2[j]:\n",
        "            match_checker_matrix[i][j]= match_reward\n",
        "        else:\n",
        "            match_checker_matrix[i][j]= mismatch_penalty\n",
        "\n",
        "#print(match_checker_matrix)\n",
        "\n",
        "#Filling up the matrix using Needleman_Wunsch algorithm\n",
        "#STEP 1 : Initialisation\n",
        "for i in range(len(sequence_1)+1):\n",
        "    main_matrix[i][0] = i*gap_penalty\n",
        "for j in range(len(sequence_2)+1):\n",
        "    main_matrix[0][j] = j * gap_penalty\n",
        "\n",
        "#STEP 2 : Matrix Filling\n",
        "for i in range(1,len(sequence_1)+1):\n",
        "    for j in range(1,len(sequence_2)+1):\n",
        "        main_matrix[i][j] = max(main_matrix[i-1][j-1]+match_checker_matrix[i-1][j-1],\n",
        "                                main_matrix[i-1][j]+gap_penalty,\n",
        "                                main_matrix[i][j-1]+ gap_penalty)\n",
        "\n",
        "#print(main_matrix)\n",
        "\n",
        "# STEP 3 : Traceback\n",
        "\n",
        "aligned_1 = \"\"\n",
        "aligned_2 = \"\"\n",
        "\n",
        "ti = len(sequence_1)\n",
        "tj = len(sequence_2)\n",
        "\n",
        "while(ti >0 and tj > 0):\n",
        "\n",
        "    if (ti >0 and tj > 0 and main_matrix[ti][tj] == main_matrix[ti-1][tj-1]+ match_checker_matrix[ti-1][tj-1]):\n",
        "\n",
        "        aligned_1 = sequence_1[ti-1] + aligned_1\n",
        "        aligned_2 = sequence_2[tj-1] + aligned_2\n",
        "\n",
        "        ti = ti - 1\n",
        "        tj = tj - 1\n",
        "\n",
        "    elif(ti > 0 and main_matrix[ti][tj] == main_matrix[ti-1][tj] + gap_penalty):\n",
        "        aligned_1 = sequence_1[ti-1] + aligned_1\n",
        "        aligned_2 = \"-\" + aligned_2\n",
        "\n",
        "        ti = ti -1\n",
        "    else:\n",
        "        aligned_1 = \"-\" + aligned_1\n",
        "        aligned_2 = sequence_2[tj-1] + aligned_2\n",
        "\n",
        "        tj = tj - 1\n",
        "\n",
        "#test\n",
        "print(aligned_1)\n",
        "print(aligned_2)"
      ]
    }
  ]
}